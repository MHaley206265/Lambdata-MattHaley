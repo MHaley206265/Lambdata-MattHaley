{
  "nbformat": 4,
  "nbformat_minor": 0,
  "metadata": {
    "colab": {
      "name": "DSPT6_311_Matt_Haley.ipynb",
      "provenance": [],
      "collapsed_sections": [],
      "authorship_tag": "ABX9TyN//yBkiTdGbQvO+T2TGyM/",
      "include_colab_link": true
    },
    "kernelspec": {
      "name": "python3",
      "display_name": "Python 3"
    }
  },
  "cells": [
    {
      "cell_type": "markdown",
      "metadata": {
        "id": "view-in-github",
        "colab_type": "text"
      },
      "source": [
        "<a href=\"https://colab.research.google.com/github/MHaley206265/Lambdata-MattHaley/blob/master/DSPT6_311_Matt_Haley.ipynb\" target=\"_parent\"><img src=\"https://colab.research.google.com/assets/colab-badge.svg\" alt=\"Open In Colab\"/></a>"
      ]
    },
    {
      "cell_type": "code",
      "metadata": {
        "id": "yV019MmUMTxZ",
        "colab_type": "code",
        "colab": {
          "base_uri": "https://localhost:8080/",
          "height": 102
        },
        "outputId": "acd78b53-3f8e-4e09-f185-4611e51dae00"
      },
      "source": [
        "import pandas as pd\n",
        "import numpy as np\n",
        "from tabulate import tabulate\n",
        "from sklearn.model_selection import train_test_split\n",
        "import math\n",
        "! pip install -i https://test.pypi.org/simple/ lambdata-dspt6-MattHaley==0.0.6"
      ],
      "execution_count": 1,
      "outputs": [
        {
          "output_type": "stream",
          "text": [
            "Looking in indexes: https://test.pypi.org/simple/\n",
            "Collecting lambdata-dspt6-MattHaley==0.0.6\n",
            "  Downloading https://test-files.pythonhosted.org/packages/69/80/1ad0a8c8063cf88f2985b9b33c26d59ed592d5d64fb629ce8e29092b1a1c/lambdata_dspt6_MattHaley-0.0.6-py3-none-any.whl\n",
            "Installing collected packages: lambdata-dspt6-MattHaley\n",
            "Successfully installed lambdata-dspt6-MattHaley-0.0.6\n"
          ],
          "name": "stdout"
        }
      ]
    },
    {
      "cell_type": "code",
      "metadata": {
        "id": "ETsLGo1XM5St",
        "colab_type": "code",
        "colab": {}
      },
      "source": [
        "columns = ['age', 'workclass', 'fnlwgt', 'education', 'education-num',\n",
        "           'marital-status', 'occupation', 'relationship', 'race', 'sex',\n",
        "           'capital-gain', 'capital-loss', 'hours-per-week', 'native-country']"
      ],
      "execution_count": 2,
      "outputs": []
    },
    {
      "cell_type": "code",
      "metadata": {
        "id": "NTC3FDnCMWp4",
        "colab_type": "code",
        "colab": {}
      },
      "source": [
        "df = pd.read_csv('https://archive.ics.uci.edu/ml/machine-learning-databases/adult/adult.data', names=columns, index_col=False)"
      ],
      "execution_count": 3,
      "outputs": []
    },
    {
      "cell_type": "code",
      "metadata": {
        "id": "B1TWsZCnMhu-",
        "colab_type": "code",
        "colab": {
          "base_uri": "https://localhost:8080/",
          "height": 204
        },
        "outputId": "b45b2b62-d457-4278-d036-798a235eb271"
      },
      "source": [
        "df.head()"
      ],
      "execution_count": 4,
      "outputs": [
        {
          "output_type": "execute_result",
          "data": {
            "text/html": [
              "<div>\n",
              "<style scoped>\n",
              "    .dataframe tbody tr th:only-of-type {\n",
              "        vertical-align: middle;\n",
              "    }\n",
              "\n",
              "    .dataframe tbody tr th {\n",
              "        vertical-align: top;\n",
              "    }\n",
              "\n",
              "    .dataframe thead th {\n",
              "        text-align: right;\n",
              "    }\n",
              "</style>\n",
              "<table border=\"1\" class=\"dataframe\">\n",
              "  <thead>\n",
              "    <tr style=\"text-align: right;\">\n",
              "      <th></th>\n",
              "      <th>age</th>\n",
              "      <th>workclass</th>\n",
              "      <th>fnlwgt</th>\n",
              "      <th>education</th>\n",
              "      <th>education-num</th>\n",
              "      <th>marital-status</th>\n",
              "      <th>occupation</th>\n",
              "      <th>relationship</th>\n",
              "      <th>race</th>\n",
              "      <th>sex</th>\n",
              "      <th>capital-gain</th>\n",
              "      <th>capital-loss</th>\n",
              "      <th>hours-per-week</th>\n",
              "      <th>native-country</th>\n",
              "    </tr>\n",
              "  </thead>\n",
              "  <tbody>\n",
              "    <tr>\n",
              "      <th>0</th>\n",
              "      <td>39</td>\n",
              "      <td>State-gov</td>\n",
              "      <td>77516</td>\n",
              "      <td>Bachelors</td>\n",
              "      <td>13</td>\n",
              "      <td>Never-married</td>\n",
              "      <td>Adm-clerical</td>\n",
              "      <td>Not-in-family</td>\n",
              "      <td>White</td>\n",
              "      <td>Male</td>\n",
              "      <td>2174</td>\n",
              "      <td>0</td>\n",
              "      <td>40</td>\n",
              "      <td>United-States</td>\n",
              "    </tr>\n",
              "    <tr>\n",
              "      <th>1</th>\n",
              "      <td>50</td>\n",
              "      <td>Self-emp-not-inc</td>\n",
              "      <td>83311</td>\n",
              "      <td>Bachelors</td>\n",
              "      <td>13</td>\n",
              "      <td>Married-civ-spouse</td>\n",
              "      <td>Exec-managerial</td>\n",
              "      <td>Husband</td>\n",
              "      <td>White</td>\n",
              "      <td>Male</td>\n",
              "      <td>0</td>\n",
              "      <td>0</td>\n",
              "      <td>13</td>\n",
              "      <td>United-States</td>\n",
              "    </tr>\n",
              "    <tr>\n",
              "      <th>2</th>\n",
              "      <td>38</td>\n",
              "      <td>Private</td>\n",
              "      <td>215646</td>\n",
              "      <td>HS-grad</td>\n",
              "      <td>9</td>\n",
              "      <td>Divorced</td>\n",
              "      <td>Handlers-cleaners</td>\n",
              "      <td>Not-in-family</td>\n",
              "      <td>White</td>\n",
              "      <td>Male</td>\n",
              "      <td>0</td>\n",
              "      <td>0</td>\n",
              "      <td>40</td>\n",
              "      <td>United-States</td>\n",
              "    </tr>\n",
              "    <tr>\n",
              "      <th>3</th>\n",
              "      <td>53</td>\n",
              "      <td>Private</td>\n",
              "      <td>234721</td>\n",
              "      <td>11th</td>\n",
              "      <td>7</td>\n",
              "      <td>Married-civ-spouse</td>\n",
              "      <td>Handlers-cleaners</td>\n",
              "      <td>Husband</td>\n",
              "      <td>Black</td>\n",
              "      <td>Male</td>\n",
              "      <td>0</td>\n",
              "      <td>0</td>\n",
              "      <td>40</td>\n",
              "      <td>United-States</td>\n",
              "    </tr>\n",
              "    <tr>\n",
              "      <th>4</th>\n",
              "      <td>28</td>\n",
              "      <td>Private</td>\n",
              "      <td>338409</td>\n",
              "      <td>Bachelors</td>\n",
              "      <td>13</td>\n",
              "      <td>Married-civ-spouse</td>\n",
              "      <td>Prof-specialty</td>\n",
              "      <td>Wife</td>\n",
              "      <td>Black</td>\n",
              "      <td>Female</td>\n",
              "      <td>0</td>\n",
              "      <td>0</td>\n",
              "      <td>40</td>\n",
              "      <td>Cuba</td>\n",
              "    </tr>\n",
              "  </tbody>\n",
              "</table>\n",
              "</div>"
            ],
            "text/plain": [
              "   age          workclass  fnlwgt  ... capital-loss  hours-per-week  native-country\n",
              "0   39          State-gov   77516  ...            0              40   United-States\n",
              "1   50   Self-emp-not-inc   83311  ...            0              13   United-States\n",
              "2   38            Private  215646  ...            0              40   United-States\n",
              "3   53            Private  234721  ...            0              40   United-States\n",
              "4   28            Private  338409  ...            0              40            Cuba\n",
              "\n",
              "[5 rows x 14 columns]"
            ]
          },
          "metadata": {
            "tags": []
          },
          "execution_count": 4
        }
      ]
    },
    {
      "cell_type": "code",
      "metadata": {
        "id": "gyxDI7gimHLc",
        "colab_type": "code",
        "colab": {}
      },
      "source": [
        "from my_lambdata.ds_utilities import DfHelper"
      ],
      "execution_count": 5,
      "outputs": []
    },
    {
      "cell_type": "code",
      "metadata": {
        "id": "jD_Oe8qpFSod",
        "colab_type": "code",
        "colab": {}
      },
      "source": [
        "dfhelp = DfHelper(df)\n"
      ],
      "execution_count": 6,
      "outputs": []
    },
    {
      "cell_type": "code",
      "metadata": {
        "id": "zksKsCH7Gjvk",
        "colab_type": "code",
        "colab": {
          "base_uri": "https://localhost:8080/",
          "height": 323
        },
        "outputId": "1f2f3d2f-f36a-42c9-b85e-311f846751bc"
      },
      "source": [
        "dfhelp.has_null()"
      ],
      "execution_count": 7,
      "outputs": [
        {
          "output_type": "stream",
          "text": [
            "Feature           Nulls\n",
            "--------------  -------\n",
            "age                   0\n",
            "workclass             0\n",
            "fnlwgt                0\n",
            "education             0\n",
            "education-num         0\n",
            "marital-status        0\n",
            "occupation            0\n",
            "relationship          0\n",
            "race                  0\n",
            "sex                   0\n",
            "capital-gain          0\n",
            "capital-loss          0\n",
            "hours-per-week        0\n",
            "native-country        0\n",
            "Total                 0\n"
          ],
          "name": "stdout"
        },
        {
          "output_type": "execute_result",
          "data": {
            "text/plain": [
              "False"
            ]
          },
          "metadata": {
            "tags": []
          },
          "execution_count": 7
        }
      ]
    },
    {
      "cell_type": "code",
      "metadata": {
        "id": "R4TeGJNglUc2",
        "colab_type": "code",
        "colab": {
          "base_uri": "https://localhost:8080/",
          "height": 391
        },
        "outputId": "6663cb01-1854-45ab-be64-112fcebb5bd5"
      },
      "source": [
        "print(dfhelp.has_null.__doc__)"
      ],
      "execution_count": 8,
      "outputs": [
        {
          "output_type": "stream",
          "text": [
            " has_null:\n",
            "\n",
            "              Takes in a dataframe (df) and returns a value of\n",
            "              True if the dataframe has null values or False if\n",
            "              the dataframe does not containe null values.\n",
            "\n",
            "              By default, this also prints a table showing which\n",
            "              features contain null values as well as how many null\n",
            "              values they contain. This cant be disabled by passing\n",
            "              in a False value for details.\n",
            "\n",
            "              -----------\n",
            "              Parameters:\n",
            "              -----------\n",
            "\n",
            "                  df (pd.DataFrame): A DataFrame that will be checked for\n",
            "                                    null values.\n",
            "\n",
            "                  details (boolean): True or False, will determine whether\n",
            "                                    or not the detailed table will be\n",
            "                                    displayed.\n",
            "        \n"
          ],
          "name": "stdout"
        }
      ]
    },
    {
      "cell_type": "code",
      "metadata": {
        "id": "S2_IeCR1rgHX",
        "colab_type": "code",
        "colab": {
          "base_uri": "https://localhost:8080/",
          "height": 68
        },
        "outputId": "193fcce0-776b-4d65-d8ad-6a1cda843404"
      },
      "source": [
        "train, val, test = dfhelp.train_val_test()\n",
        "print(train.shape)\n",
        "print(test.shape)\n",
        "print(val.shape)"
      ],
      "execution_count": 9,
      "outputs": [
        {
          "output_type": "stream",
          "text": [
            "(22792, 14)\n",
            "(4885, 14)\n",
            "(4884, 14)\n"
          ],
          "name": "stdout"
        }
      ]
    },
    {
      "cell_type": "code",
      "metadata": {
        "id": "ltDx26QPxL_4",
        "colab_type": "code",
        "colab": {
          "base_uri": "https://localhost:8080/",
          "height": 391
        },
        "outputId": "5ac27483-aed9-4033-d6ba-0b83a42f50b3"
      },
      "source": [
        "print(dfhelp.train_val_test.__doc__)"
      ],
      "execution_count": 10,
      "outputs": [
        {
          "output_type": "stream",
          "text": [
            "train_val_test:\n",
            "\n",
            "              This function splits a dataframe into train, validation\n",
            "              and test sets.  By default it splits the dataframe 70%/15%/15%\n",
            "              into train, validation, and test respectively\n",
            "\n",
            "              ----------\n",
            "              Parameters\n",
            "              ----------\n",
            "\n",
            "                df (pd.DataFrame): a dataframe to be split\n",
            "\n",
            "                train_size (float): float between 0 and 1 that will determine\n",
            "                                    the percentage of the original dataframe\n",
            "                                    that will be used to make the train set.\n",
            "\n",
            "                val_size (float): float between 0 and 1 that will determine\n",
            "                                  the percentage of the remaining dataframe\n",
            "                                  that will be used to make the validation\n",
            "                                  set. The remaining percentage will be used\n",
            "                                  to make the test set.\n",
            "        \n"
          ],
          "name": "stdout"
        }
      ]
    }
  ]
}